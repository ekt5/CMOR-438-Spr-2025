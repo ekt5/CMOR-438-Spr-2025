{
 "cells": [
  {
   "metadata": {},
   "cell_type": "markdown",
   "source": [
    "## 🧾 Introduction: Image Compression with SVD\n",
    "\n",
    "Image compression using **Singular Value Decomposition (SVD)** is a linear algebra-based technique that approximates an image by reducing its rank while preserving essential structure. Any grayscale image can be represented as a 2D matrix, and SVD decomposes this matrix into three components:\n",
    "\n",
    "$A = U \\Sigma V^T$\n",
    "\n",
    "Here:\n",
    "- $U$ and $V^T$ are orthogonal matrices.\n",
    "- $\\Sigma$ is a diagonal matrix containing singular values, representing the energy (or importance) of each component.\n",
    "\n",
    "By retaining only the top $k$ singular values (i.e., the most important features), we can reconstruct a compressed version of the original image:\n",
    "\n",
    "$A_k \\approx U_k \\Sigma_k V_k^T$\n",
    "\n",
    "This technique reduces storage cost and speeds up transmission while preserving visual fidelity.\n",
    "\n",
    "---\n",
    "\n",
    "### Datasets Used\n",
    "\n",
    "#### **MNIST (Modified National Institute of Standards and Technology)**\n",
    "- Consists of 70,000 grayscale images of handwritten digits (0–9).\n",
    "- Each image is **28×28 pixels**, monochrome.\n",
    "- Popular in computer vision for classification and digit recognition tasks.\n",
    "- Simple structure makes it useful for understanding basic compression concepts, though less visually rich.\n",
    "\n",
    "#### **LFW (Labeled Faces in the Wild)**\n",
    "- Contains over 13,000 grayscale face images of celebrities and public figures.\n",
    "- For this demo, we use a filtered version (e.g., people with ≥70 images).\n",
    "- Each image is typically resized to **50×37 pixels**.\n",
    "- Faces are more complex and structured than digits, making compression results more interesting and visually insightful.\n",
    "\n",
    "By applying SVD to both datasets, we can visualize how different ranks (top $k$ singular values) affect compression quality and understand trade-offs between fidelity and compression.\n"
   ],
   "id": "2e7874909798f729"
  },
  {
   "metadata": {
    "ExecuteTime": {
     "end_time": "2025-05-06T17:08:40.737563Z",
     "start_time": "2025-05-06T17:08:40.731704Z"
    }
   },
   "cell_type": "code",
   "outputs": [],
   "execution_count": 3,
   "source": [
    "import numpy as np\n",
    "import matplotlib.pyplot as plt\n",
    "from sklearn.datasets import fetch_openml"
   ],
   "id": "44254706ff4f4d48"
  },
  {
   "metadata": {
    "ExecuteTime": {
     "end_time": "2025-05-06T17:08:45.973851Z",
     "start_time": "2025-05-06T17:08:41.864725Z"
    }
   },
   "cell_type": "code",
   "source": [
    "# Load MNIST Data\n",
    "mnist = fetch_openml('mnist_784', version=1)\n",
    "X = mnist.data.values.astype('float32') / 255.0  # Normalize\n",
    "X = X.reshape(-1, 28, 28)  # Convert to image format"
   ],
   "id": "2b048d6b4ff2f778",
   "outputs": [],
   "execution_count": 4
  },
  {
   "metadata": {
    "ExecuteTime": {
     "end_time": "2025-05-06T17:08:46.766126Z",
     "start_time": "2025-05-06T17:08:46.729831Z"
    }
   },
   "cell_type": "code",
   "source": [
    "# Select one image\n",
    "img = X[0]  # Pick any digit image\n",
    "\n",
    "# Perform SVD\n",
    "U, S, VT = np.linalg.svd(img, full_matrices=False)"
   ],
   "id": "12d37bf238657a26",
   "outputs": [],
   "execution_count": 5
  },
  {
   "metadata": {
    "ExecuteTime": {
     "end_time": "2025-05-06T17:08:48.415155Z",
     "start_time": "2025-05-06T17:08:48.409642Z"
    }
   },
   "cell_type": "code",
   "source": [
    "# Compress with top-k singular values\n",
    "def compress_image(U, S, VT, k):\n",
    "    S_k = np.diag(S[:k])\n",
    "    U_k = U[:, :k]\n",
    "    VT_k = VT[:k, :]\n",
    "    return np.dot(U_k, np.dot(S_k, VT_k))"
   ],
   "id": "2065d21366c05f8d",
   "outputs": [],
   "execution_count": 6
  },
  {
   "metadata": {
    "collapsed": true,
    "ExecuteTime": {
     "end_time": "2025-05-06T17:08:50.218282Z",
     "start_time": "2025-05-06T17:08:50.094777Z"
    }
   },
   "cell_type": "code",
   "source": [
    "# Visualize original and compressed images\n",
    "ks = [5, 20, 50, 100]\n",
    "plt.figure(figsize=(10, 5))\n",
    "plt.subplot(1, len(ks)+1, 1)\n",
    "plt.imshow(img, cmap='gray')\n",
    "plt.title('Original')\n",
    "plt.axis('off')\n",
    "\n",
    "for i, k in enumerate(ks):\n",
    "    img_compressed = compress_image(U, S, VT, k)\n",
    "    plt.subplot(1, len(ks)+1, i+2)\n",
    "    plt.imshow(img_compressed, cmap='gray')\n",
    "    plt.title(f'k = {k}')\n",
    "    plt.axis('off')\n",
    "\n",
    "plt.tight_layout()\n",
    "plt.show()\n"
   ],
   "id": "initial_id",
   "outputs": [
    {
     "data": {
      "text/plain": [
       "<Figure size 1000x500 with 5 Axes>"
      ],
      "image/png": "[encoded data removed]"
     },
     "metadata": {},
     "output_type": "display_data"
    }
   ],
   "execution_count": 7
  },
  {
   "metadata": {
    "ExecuteTime": {
     "end_time": "2025-05-06T17:08:56.302228Z",
     "start_time": "2025-05-06T17:08:56.228644Z"
    }
   },
   "cell_type": "code",
   "source": [
    "from sklearn.datasets import fetch_lfw_people\n",
    "\n",
    "# Load LFW grayscale face images\n",
    "lfw = fetch_lfw_people(min_faces_per_person=70, resize=0.4)  # 50x37 grayscale images\n",
    "images = lfw.images\n",
    "image = images[0]  # Select first image for demo\n",
    "\n",
    "# Perform SVD\n",
    "U, S, VT = np.linalg.svd(image, full_matrices=False)"
   ],
   "id": "3e04472a829abad",
   "outputs": [],
   "execution_count": 8
  },
  {
   "metadata": {
    "ExecuteTime": {
     "end_time": "2025-05-06T17:09:02.216340Z",
     "start_time": "2025-05-06T17:09:01.964615Z"
    }
   },
   "cell_type": "code",
   "source": [
    "# Plot original and compressed versions\n",
    "ks = [5, 15, 30, 50]  # Try different ranks\n",
    "plt.figure(figsize=(12, 3))\n",
    "\n",
    "plt.subplot(1, len(ks) + 1, 1)\n",
    "plt.imshow(image, cmap='gray')\n",
    "plt.title('Original')\n",
    "plt.axis('off')\n",
    "\n",
    "for i, k in enumerate(ks):\n",
    "    compressed = compress_image(U, S, VT, k)\n",
    "    plt.subplot(1, len(ks) + 1, i + 2)\n",
    "    plt.imshow(compressed, cmap='gray')\n",
    "    plt.title(f'k = {k}')\n",
    "    plt.axis('off')\n",
    "\n",
    "plt.tight_layout()\n",
    "plt.show()\n"
   ],
   "id": "10d8d1fab2626c24",
   "outputs": [
    {
     "data": {
      "text/plain": [
       "<Figure size 1200x300 with 5 Axes>"
      ],
      "image/png": "[encoded data removed]"
     },
     "metadata": {},
     "output_type": "display_data"
    }
   ],
   "execution_count": 10
  }
 ],
 "metadata": {
  "kernelspec": {
   "display_name": "Python 3",
   "language": "python",
   "name": "python3"
  },
  "language_info": {
   "codemirror_mode": {
    "name": "ipython",
    "version": 2
   },
   "file_extension": ".py",
   "mimetype": "text/x-python",
   "name": "python",
   "nbconvert_exporter": "python",
   "pygments_lexer": "ipython2",
   "version": "2.7.6"
  }
 },
 "nbformat": 4,
 "nbformat_minor": 5
}
