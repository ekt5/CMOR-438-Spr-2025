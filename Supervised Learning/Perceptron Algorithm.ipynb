{
 "cells": [
  {
   "metadata": {},
   "cell_type": "markdown",
   "source": [
    "# Perceptron Algorithm Definition\n",
    "\n",
    "In this module, I will write and implement the perceptron algorithm, which is a supervised learning algorithm for binary classifiers. It is one of the simplest types of artificial neural networks and operates by finding a linear decision boundary that separates data points into two classes. The algorithm functions as follows:\n",
    "\n",
    "## Initialization\n",
    "\n",
    "The algorithm starts by initializing the weight vector and bias term to zero (or small random values). These parameters define the separating hyperplane.\n",
    "\n",
    "## Prediction\n",
    "\n",
    "For each input sample, the algorithm computes the weighted sum of the input features and the bias. It then applies an activation function — specifically, the unit step function — to determine the predicted class label:\n",
    "\n",
    "\\[\n",
    "\\text{Prediction} =\n",
    "\\begin{cases}\n",
    "1 & \\text{if } (w \\cdot x + b) \\geq 0 \\\\\n",
    "0 & \\text{otherwise}\n",
    "\\end{cases}\n",
    "\\]\n",
    "\n",
    "## Update Rule\n",
    "\n",
    "If the prediction does not match the true label, the model updates its weights and bias to reduce future errors. The updates are given by:\n",
    "\n",
    "\\[\n",
    "w \\leftarrow w + \\eta (y_i - \\hat{y}_i) x_i\n",
    "\\]\n",
    "\\[\n",
    "b \\leftarrow b + \\eta (y_i - \\hat{y}_i)\n",
    "\\]\n",
    "\n",
    "where:\n",
    "- \\( w \\) is the weight vector,\n",
    "- \\( b \\) is the bias,\n",
    "- \\( \\eta \\) is the learning rate,\n",
    "- \\( y_i \\) is the true label,\n",
    "- \\( \\hat{y}_i \\) is the predicted label,\n",
    "- \\( x_i \\) is the input vector.\n",
    "\n",
    "## Iteration\n",
    "\n",
    "The algorithm repeats the prediction and update steps over the training data for a fixed number of iterations or until the model converges (i.e., no further updates are needed).\n",
    "\n",
    "The Perceptron algorithm is guaranteed to converge to a solution if the data is linearly separable. If the data is not linearly separable, the algorithm will continue updating without finding a perfect solution.\n"
   ],
   "id": "995cc5e843437e64"
  }
 ],
 "metadata": {
  "kernelspec": {
   "display_name": "Python 3",
   "language": "python",
   "name": "python3"
  },
  "language_info": {
   "codemirror_mode": {
    "name": "ipython",
    "version": 2
   },
   "file_extension": ".py",
   "mimetype": "text/x-python",
   "name": "python",
   "nbconvert_exporter": "python",
   "pygments_lexer": "ipython2",
   "version": "2.7.6"
  }
 },
 "nbformat": 4,
 "nbformat_minor": 5
}
