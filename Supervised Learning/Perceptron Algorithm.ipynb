{
 "cells": [
  {
   "cell_type": "code",
   "id": "initial_id",
   "metadata": {
    "collapsed": true,
    "ExecuteTime": {
     "end_time": "2025-04-29T02:50:39.722982Z",
     "start_time": "2025-04-29T02:50:39.705122Z"
    }
   },
   "source": [
    "#import necessary plot libraries\n",
    "import matplotlib.pyplot as plt\n",
    "import numpy as np\n",
    "import pandas as pd\n",
    "import seaborn as sns\n",
    "\n",
    "#function for plotting decision bounds\n",
    "from mlxtend.plotting import plot_decision_regions\n",
    "\n",
    "#set seaborn theme\n",
    "sns.set_theme()\n",
    "\n",
    "#read iris dataset into DataFrame\n",
    "df = pd.read_csv(\"Datasets/iris_dataset.csv\")"
   ],
   "outputs": [],
   "execution_count": 12
  },
  {
   "metadata": {},
   "cell_type": "code",
   "outputs": [],
   "execution_count": null,
   "source": "",
   "id": "2f35f3c3df8a6344"
  }
 ],
 "metadata": {
  "kernelspec": {
   "display_name": "Python 3",
   "language": "python",
   "name": "python3"
  },
  "language_info": {
   "codemirror_mode": {
    "name": "ipython",
    "version": 2
   },
   "file_extension": ".py",
   "mimetype": "text/x-python",
   "name": "python",
   "nbconvert_exporter": "python",
   "pygments_lexer": "ipython2",
   "version": "2.7.6"
  }
 },
 "nbformat": 4,
 "nbformat_minor": 5
}
