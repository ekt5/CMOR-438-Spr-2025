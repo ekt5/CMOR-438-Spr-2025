{
 "cells": [
  {
   "metadata": {},
   "cell_type": "markdown",
   "source": "",
   "id": "779e1f9b106171a7"
  },
  {
   "metadata": {},
   "cell_type": "markdown",
   "source": [
    "## Linear Regression Overview\n",
    "\n",
    "In this module, we implement linear regression using the **closed-form solution** (also known as the normal equation) to estimate the probability that a tumor is malignant based on features of its cell nuclei. Although the original task is a binary classification problem (benign vs. malignant), we treat the class labels as continuous values — $0$ for benign and $1$ for malignant — and use linear regression to predict a real-valued score between $0$ and $1$.\n",
    "\n",
    "The model assumes a linear relationship between the input features $ \\mathbf{x} \\in \\mathbb{R}^d $ and the target value $ y \\in \\mathbb{R} $, defined as:\n",
    "\n",
    "$$\n",
    "\\hat{y} = \\mathbf{w}^\\top \\mathbf{x} + b\n",
    "$$\n",
    "\n",
    "To find the optimal weights $ \\mathbf{w} $ and bias $ b $, we first augment the input matrix with a column of ones to account for the bias term. We then solve for $ \\mathbf{w} $ using the normal equation:\n",
    "\n",
    "$$\n",
    "\\mathbf{w} = (X^\\top X)^{-1} X^\\top y\n",
    "$$\n",
    "\n",
    "We evaluate the model using **mean squared error (MSE)** to see how close the predicted outputs $ \\hat{y} $ are to the true labels $ y $. To interpret the results in a classification setting, we apply a threshold at $0.5$ — predictions above this value are labeled malignant ($1$), and those below are labeled benign ($0$).\n",
    "\n",
    "While this approach can provide a simple baseline, it's important to remember that linear regression isn't ideal for classification tasks, especially when the data isn't linearly separable.\n"
   ],
   "id": "120938cebac81fca"
  },
  {
   "metadata": {},
   "cell_type": "markdown",
   "source": "",
   "id": "c0f55ad02dcc2a98"
  }
 ],
 "metadata": {
  "kernelspec": {
   "display_name": "Python 3",
   "language": "python",
   "name": "python3"
  },
  "language_info": {
   "codemirror_mode": {
    "name": "ipython",
    "version": 2
   },
   "file_extension": ".py",
   "mimetype": "text/x-python",
   "name": "python",
   "nbconvert_exporter": "python",
   "pygments_lexer": "ipython2",
   "version": "2.7.6"
  }
 },
 "nbformat": 4,
 "nbformat_minor": 5
}
